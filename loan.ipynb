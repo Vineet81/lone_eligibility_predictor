{
 "cells": [
  {
   "cell_type": "code",
   "execution_count": 7,
   "id": "e8fcaea7",
   "metadata": {},
   "outputs": [
    {
     "name": "stdout",
     "output_type": "stream",
     "text": [
      "   ApplicantIncome  CoapplicantIncome  LoanAmount  Loan_Amount_Term  \\\n",
      "0           5720.0                0.0       110.0             360.0   \n",
      "1           3076.0             1500.0       126.0             360.0   \n",
      "2           5000.0             1800.0       208.0             360.0   \n",
      "3           2340.0             2546.0       100.0             360.0   \n",
      "4           3276.0                0.0        78.0             360.0   \n",
      "\n",
      "   Dependents  Gender_Male  Married_Yes  Education_Not Graduate  \\\n",
      "0         0.0          1.0          1.0                     0.0   \n",
      "1         1.0          1.0          1.0                     0.0   \n",
      "2         2.0          1.0          1.0                     0.0   \n",
      "3         2.0          1.0          1.0                     0.0   \n",
      "4         0.0          1.0          0.0                     1.0   \n",
      "\n",
      "   Self_Employed_Yes  Property_Area_Semiurban  Property_Area_Urban  \\\n",
      "0                0.0                      0.0                  1.0   \n",
      "1                0.0                      0.0                  1.0   \n",
      "2                0.0                      0.0                  1.0   \n",
      "3                0.0                      0.0                  1.0   \n",
      "4                0.0                      0.0                  1.0   \n",
      "\n",
      "   Credit_History Loan_Status  \n",
      "0             1.0           Y  \n",
      "1             1.0           Y  \n",
      "2             1.0           Y  \n",
      "3             1.0           Y  \n",
      "4             1.0           Y  \n",
      "ApplicantIncome            0\n",
      "CoapplicantIncome          0\n",
      "LoanAmount                 0\n",
      "Loan_Amount_Term           0\n",
      "Dependents                 0\n",
      "Gender_Male                0\n",
      "Married_Yes                0\n",
      "Education_Not Graduate     0\n",
      "Self_Employed_Yes          0\n",
      "Property_Area_Semiurban    0\n",
      "Property_Area_Urban        0\n",
      "Credit_History             0\n",
      "Loan_Status                0\n",
      "dtype: int64\n"
     ]
    }
   ],
   "source": [
    "from sklearn.compose import ColumnTransformer\n",
    "from sklearn.preprocessing import OneHotEncoder, OrdinalEncoder\n",
    "from sklearn.pipeline import Pipeline\n",
    "from sklearn.impute import SimpleImputer\n",
    "import pandas as pd\n",
    "import numpy as np\n",
    "\n",
    "# Load and copy dataset\n",
    "df = pd.read_csv(\"loan_data.csv\").copy()\n",
    "\n",
    "# Replace '3+' with 3 in Dependents\n",
    "df['Dependents'] = df['Dependents'].replace('3+', 3).astype(float)\n",
    "\n",
    "# Fill missing values\n",
    "df['Gender'].fillna(df['Gender'].mode()[0], inplace=True)\n",
    "df['Dependents'].fillna(df['Dependents'].mode()[0], inplace=True)\n",
    "df['Self_Employed'].fillna(df['Self_Employed'].mode()[0], inplace=True)\n",
    "df['LoanAmount'].fillna(df['LoanAmount'].median(), inplace=True)\n",
    "df['Loan_Amount_Term'].fillna(df['Loan_Amount_Term'].mode()[0], inplace=True)\n",
    "df['Credit_History'].fillna(df['Credit_History'].mode()[0], inplace=True)\n",
    "\n",
    "# Drop Loan_ID\n",
    "df.drop(\"Loan_ID\", axis=1, inplace=True)\n",
    "\n",
    "# Features and target\n",
    "X = df.drop(\"Loan_Status\", axis=1)\n",
    "y = df[\"Loan_Status\"]\n",
    "\n",
    "# Define column types\n",
    "numeric_features = ['ApplicantIncome', 'CoapplicantIncome', 'LoanAmount', 'Loan_Amount_Term', 'Dependents']\n",
    "categorical_features = ['Gender', 'Married', 'Education', 'Self_Employed', 'Property_Area']\n",
    "binary_features = ['Credit_History']\n",
    "\n",
    "# Pipelines for preprocessing\n",
    "numeric_transformer = Pipeline(steps=[\n",
    "    (\"imputer\", SimpleImputer(strategy=\"median\"))\n",
    "])\n",
    "\n",
    "categorical_transformer = Pipeline(steps=[\n",
    "    (\"imputer\", SimpleImputer(strategy=\"most_frequent\")),\n",
    "    (\"onehot\", OneHotEncoder(drop='first', sparse_output=False, handle_unknown='ignore')\n",
    ")\n",
    "])\n",
    "\n",
    "binary_transformer = Pipeline(steps=[\n",
    "    (\"imputer\", SimpleImputer(strategy=\"most_frequent\"))\n",
    "])\n",
    "\n",
    "# Combine transformers\n",
    "preprocessor = ColumnTransformer(\n",
    "    transformers=[\n",
    "        (\"num\", numeric_transformer, numeric_features),\n",
    "        (\"cat\", categorical_transformer, categorical_features),\n",
    "        (\"bin\", binary_transformer, binary_features)\n",
    "    ]\n",
    ")\n",
    "\n",
    "# Fit and transform\n",
    "X_processed = preprocessor.fit_transform(X)\n",
    "\n",
    "# Get feature names\n",
    "ohe = preprocessor.named_transformers_['cat']['onehot']\n",
    "cat_feature_names = ohe.get_feature_names_out(categorical_features)\n",
    "\n",
    "# Combine all feature names\n",
    "all_feature_names = numeric_features + list(cat_feature_names) + binary_features\n",
    "\n",
    "# Create DataFrame\n",
    "X_encoded = pd.DataFrame(X_processed, columns=all_feature_names)\n",
    "\n",
    "# Combine with target\n",
    "df_cleaned = pd.concat([X_encoded, y.reset_index(drop=True)], axis=1)\n",
    "\n",
    "# Confirm\n",
    "print(df_cleaned.head())\n",
    "print(df_cleaned.isnull().sum())\n"
   ]
  },
  {
   "cell_type": "code",
   "execution_count": 8,
   "id": "805bab00",
   "metadata": {},
   "outputs": [],
   "source": [
    "from sklearn.model_selection import train_test_split\n",
    "\n",
    "X = df_cleaned.drop(\"Loan_Status\", axis=1)\n",
    "y = df_cleaned[\"Loan_Status\"].map({'Y': 1, 'N': 0})  # Convert to binary 0/1 if not done already\n",
    "\n",
    "X_train, X_test, y_train, y_test = train_test_split(X, y, test_size=0.2, random_state=42)\n"
   ]
  },
  {
   "cell_type": "code",
   "execution_count": 11,
   "id": "37b95cf0",
   "metadata": {},
   "outputs": [
    {
     "name": "stdout",
     "output_type": "stream",
     "text": [
      "Logistic Regression Results:\n",
      "[[19 13]\n",
      " [ 4 38]]\n",
      "              precision    recall  f1-score   support\n",
      "\n",
      "           0       0.83      0.59      0.69        32\n",
      "           1       0.75      0.90      0.82        42\n",
      "\n",
      "    accuracy                           0.77        74\n",
      "   macro avg       0.79      0.75      0.75        74\n",
      "weighted avg       0.78      0.77      0.76        74\n",
      "\n",
      "Accuracy: 0.7702702702702703\n"
     ]
    },
    {
     "name": "stderr",
     "output_type": "stream",
     "text": [
      "/home/vineet/anaconda3/lib/python3.9/site-packages/sklearn/linear_model/_logistic.py:469: ConvergenceWarning: lbfgs failed to converge (status=1):\n",
      "STOP: TOTAL NO. of ITERATIONS REACHED LIMIT.\n",
      "\n",
      "Increase the number of iterations (max_iter) or scale the data as shown in:\n",
      "    https://scikit-learn.org/stable/modules/preprocessing.html\n",
      "Please also refer to the documentation for alternative solver options:\n",
      "    https://scikit-learn.org/stable/modules/linear_model.html#logistic-regression\n",
      "  n_iter_i = _check_optimize_result(\n"
     ]
    }
   ],
   "source": [
    "from sklearn.linear_model import LogisticRegression\n",
    "from sklearn.metrics import classification_report, confusion_matrix, accuracy_score\n",
    "\n",
    "lr = LogisticRegression(max_iter=1000)\n",
    "lr.fit(X_train, y_train)\n",
    "\n",
    "y_pred_lr = lr.predict(X_test)\n",
    "\n",
    "print(\"Logistic Regression Results:\")\n",
    "print(confusion_matrix(y_test, y_pred_lr))\n",
    "print(classification_report(y_test, y_pred_lr))\n",
    "print(\"Accuracy:\", accuracy_score(y_test, y_pred_lr))\n"
   ]
  },
  {
   "cell_type": "code",
   "execution_count": 12,
   "id": "4c6a6bac",
   "metadata": {},
   "outputs": [
    {
     "name": "stdout",
     "output_type": "stream",
     "text": [
      "Random Forest Results:\n",
      "[[25  7]\n",
      " [ 6 36]]\n",
      "              precision    recall  f1-score   support\n",
      "\n",
      "           0       0.81      0.78      0.79        32\n",
      "           1       0.84      0.86      0.85        42\n",
      "\n",
      "    accuracy                           0.82        74\n",
      "   macro avg       0.82      0.82      0.82        74\n",
      "weighted avg       0.82      0.82      0.82        74\n",
      "\n",
      "Accuracy: 0.8243243243243243\n"
     ]
    }
   ],
   "source": [
    "from sklearn.ensemble import RandomForestClassifier\n",
    "\n",
    "rf = RandomForestClassifier(n_estimators=100, random_state=42)\n",
    "rf.fit(X_train, y_train)\n",
    "\n",
    "y_pred_rf = rf.predict(X_test)\n",
    "\n",
    "print(\"Random Forest Results:\")\n",
    "print(confusion_matrix(y_test, y_pred_rf))\n",
    "print(classification_report(y_test, y_pred_rf))\n",
    "print(\"Accuracy:\", accuracy_score(y_test, y_pred_rf))\n"
   ]
  },
  {
   "cell_type": "code",
   "execution_count": 13,
   "id": "434fec31",
   "metadata": {},
   "outputs": [
    {
     "data": {
      "text/plain": [
       "['preprocessor.pkl']"
      ]
     },
     "execution_count": 13,
     "metadata": {},
     "output_type": "execute_result"
    }
   ],
   "source": [
    "import joblib\n",
    "\n",
    "joblib.dump(rf, \"rf_model.pkl\")\n",
    "joblib.dump(lr, \"logistic_model.pkl\")\n",
    "joblib.dump(preprocessor, \"preprocessor.pkl\")\n"
   ]
  },
  {
   "cell_type": "code",
   "execution_count": null,
   "id": "9af5d24d",
   "metadata": {},
   "outputs": [],
   "source": []
  }
 ],
 "metadata": {
  "kernelspec": {
   "display_name": "Python 3 (ipykernel)",
   "language": "python",
   "name": "python3"
  },
  "language_info": {
   "codemirror_mode": {
    "name": "ipython",
    "version": 3
   },
   "file_extension": ".py",
   "mimetype": "text/x-python",
   "name": "python",
   "nbconvert_exporter": "python",
   "pygments_lexer": "ipython3",
   "version": "3.9.12"
  }
 },
 "nbformat": 4,
 "nbformat_minor": 5
}
